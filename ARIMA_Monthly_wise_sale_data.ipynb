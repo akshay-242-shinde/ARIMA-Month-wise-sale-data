{
  "nbformat": 4,
  "nbformat_minor": 0,
  "metadata": {
    "colab": {
      "provenance": [],
      "authorship_tag": "ABX9TyPP32Nkv5MAkWY6GeMODTrn",
      "include_colab_link": true
    },
    "kernelspec": {
      "name": "python3",
      "display_name": "Python 3"
    },
    "language_info": {
      "name": "python"
    }
  },
  "cells": [
    {
      "cell_type": "markdown",
      "metadata": {
        "id": "view-in-github",
        "colab_type": "text"
      },
      "source": [
        "<a href=\"https://colab.research.google.com/github/akshay-242-shinde/Sale-Data/blob/main/ARIMA_Monthly_wise_sale_data.ipynb\" target=\"_parent\"><img src=\"https://colab.research.google.com/assets/colab-badge.svg\" alt=\"Open In Colab\"/></a>"
      ]
    },
    {
      "cell_type": "code",
      "execution_count": 1,
      "metadata": {
        "id": "lRCYRMNpyPxg"
      },
      "outputs": [],
      "source": [
        "import pandas as pd\n",
        "import numpy as np\n",
        "import matplotlib.pyplot as plt\n",
        "%matplotlib inline"
      ]
    },
    {
      "cell_type": "code",
      "source": [
        "import warnings\n",
        "warnings.filterwarnings(\"ignore\")\n",
        "##the inline statement helps to create charts just below the code execution box,or else we have to use plt.show()\n",
        "##each time to display the graphs"
      ],
      "metadata": {
        "id": "uaiKuZwf0jMb"
      },
      "execution_count": 2,
      "outputs": []
    },
    {
      "cell_type": "code",
      "source": [
        "ts = pd.read_csv(\"Sales_TS[1].csv\")"
      ],
      "metadata": {
        "id": "ErqAWDbC0tK7"
      },
      "execution_count": 3,
      "outputs": []
    },
    {
      "cell_type": "code",
      "source": [
        "ts.head()"
      ],
      "metadata": {
        "colab": {
          "base_uri": "https://localhost:8080/"
        },
        "id": "c2PUi4Ub08XW",
        "outputId": "dff42667-cf96-44d8-a53b-f2c74036c44b"
      },
      "execution_count": 14,
      "outputs": [
        {
          "output_type": "execute_result",
          "data": {
            "text/plain": [
              "Month\n",
              "01-Jan    266.0\n",
              "01-Feb    145.9\n",
              "01-Mar    183.1\n",
              "01-Apr    119.3\n",
              "01-May    180.3\n",
              "Name: Sales, dtype: float64"
            ]
          },
          "metadata": {},
          "execution_count": 14
        }
      ]
    },
    {
      "cell_type": "code",
      "source": [
        "ts = pd.read_csv(\"Sales_TS[1].csv\",index_col=[0],parse_dates=True,squeeze=True)"
      ],
      "metadata": {
        "id": "o3NTuwMT1EN5"
      },
      "execution_count": 6,
      "outputs": []
    },
    {
      "cell_type": "markdown",
      "source": [
        "#We need the index to be month,as it is easily referencible.we put col[0] as we want monthly data in the series form, we use parse_dates to easily recognize the dates column,and lastly the squeeze parameter converts the data into a series do shift+tab+tab to get signature"
      ],
      "metadata": {
        "id": "2lIYqOky1tkF"
      }
    },
    {
      "cell_type": "code",
      "source": [],
      "metadata": {
        "id": "9aQSQxB32A7g"
      },
      "execution_count": null,
      "outputs": []
    },
    {
      "cell_type": "code",
      "source": [
        "type(ts)"
      ],
      "metadata": {
        "colab": {
          "base_uri": "https://localhost:8080/"
        },
        "id": "pVd-cawd1PeC",
        "outputId": "5cf1a4b2-bcc7-4fd7-8159-c5d2ba914c5e"
      },
      "execution_count": 8,
      "outputs": [
        {
          "output_type": "execute_result",
          "data": {
            "text/plain": [
              "pandas.core.series.Series"
            ]
          },
          "metadata": {},
          "execution_count": 8
        }
      ]
    },
    {
      "cell_type": "code",
      "source": [
        "ts.head()"
      ],
      "metadata": {
        "colab": {
          "base_uri": "https://localhost:8080/"
        },
        "id": "9_ZgQDRX1Ucz",
        "outputId": "0d2690e4-afea-4b0b-8287-9b0dfc2ed540"
      },
      "execution_count": 9,
      "outputs": [
        {
          "output_type": "execute_result",
          "data": {
            "text/plain": [
              "Month\n",
              "01-Jan    266.0\n",
              "01-Feb    145.9\n",
              "01-Mar    183.1\n",
              "01-Apr    119.3\n",
              "01-May    180.3\n",
              "Name: Sales, dtype: float64"
            ]
          },
          "metadata": {},
          "execution_count": 9
        }
      ]
    },
    {
      "cell_type": "code",
      "source": [
        "ts.plot()"
      ],
      "metadata": {
        "colab": {
          "base_uri": "https://localhost:8080/",
          "height": 467
        },
        "id": "D7MLpOKE1blI",
        "outputId": "36cc1f50-fd3b-4cd4-caba-b88ae8ef868b"
      },
      "execution_count": 10,
      "outputs": [
        {
          "output_type": "execute_result",
          "data": {
            "text/plain": [
              "<Axes: xlabel='Month'>"
            ]
          },
          "metadata": {},
          "execution_count": 10
        },
        {
          "output_type": "display_data",
          "data": {
            "text/plain": [
              "<Figure size 640x480 with 1 Axes>"
            ],
            "image/png": "[encoded data removed]"
          },
          "metadata": {}
        }
      ]
    },
    {
      "cell_type": "markdown",
      "source": [
        "#Clear indication that trend is present with seasonal fluctuations"
      ],
      "metadata": {
        "id": "DRh5y6AS1mCG"
      }
    },
    {
      "cell_type": "code",
      "source": [
        "ts.size"
      ],
      "metadata": {
        "colab": {
          "base_uri": "https://localhost:8080/"
        },
        "id": "mZ_MLl-R2DlR",
        "outputId": "ced8fe08-b2db-4edd-d444-9b85b20946e2"
      },
      "execution_count": 11,
      "outputs": [
        {
          "output_type": "execute_result",
          "data": {
            "text/plain": [
              "36"
            ]
          },
          "metadata": {},
          "execution_count": 11
        }
      ]
    },
    {
      "cell_type": "code",
      "source": [
        "ts.describe()"
      ],
      "metadata": {
        "colab": {
          "base_uri": "https://localhost:8080/"
        },
        "id": "BO3QFd8V2HYy",
        "outputId": "1234902f-0098-41ae-ad1a-55b175be4521"
      },
      "execution_count": 12,
      "outputs": [
        {
          "output_type": "execute_result",
          "data": {
            "text/plain": [
              "count     36.000000\n",
              "mean     312.600000\n",
              "std      148.937164\n",
              "min      119.300000\n",
              "25%      192.450000\n",
              "50%      280.150000\n",
              "75%      411.100000\n",
              "max      682.000000\n",
              "Name: Sales, dtype: float64"
            ]
          },
          "metadata": {},
          "execution_count": 12
        }
      ]
    },
    {
      "cell_type": "markdown",
      "source": [
        "Moving averages can smooth time series data, reveal underlying trends. Smoothing is the process of removing random variations that appear as coarseness in a plot of raw time series data.\n",
        "A rolling average, sometimes referred to as a moving average, is a metric that calculates trends over short periods of time using a set of data. Specifically, it helps calculate trends when they might otherwise be difficult to detect."
      ],
      "metadata": {
        "id": "a5jVd0WE1rud"
      }
    },
    {
      "cell_type": "code",
      "source": [
        "#Smoothing the time series by calculating the MA\n",
        "ts_ma=ts.rolling(window=10).mean()"
      ],
      "metadata": {
        "id": "Sk1Ba9A52YC3"
      },
      "execution_count": 13,
      "outputs": []
    },
    {
      "cell_type": "markdown",
      "source": [
        "A rolling window model involves calculating a statistic on a fixed contiguous block of prior observations and using it as a forecast. In this case we take the average of 10 past time sales and that is the single value at the 10th position."
      ],
      "metadata": {
        "id": "f4yJ-PDF2qbK"
      }
    },
    {
      "cell_type": "markdown",
      "source": [
        "You can often break the series down into trend and seasonal effects as well as long term cycles (plus, of course, an irregular and essentially unpredictable component). But the trend and seasonal effects can change over time. A rolling window allows you to avoid taking too much account of historical effect values that might have changed."
      ],
      "metadata": {
        "id": "3w3f9v9l62Pm"
      }
    },
    {
      "cell_type": "code",
      "source": [
        "ts_ma.plot()"
      ],
      "metadata": {
        "colab": {
          "base_uri": "https://localhost:8080/",
          "height": 467
        },
        "id": "SAvpwcQS64Yj",
        "outputId": "ece9d302-379b-48a9-9d3e-b6c25724f2ef"
      },
      "execution_count": 15,
      "outputs": [
        {
          "output_type": "execute_result",
          "data": {
            "text/plain": [
              "<Axes: xlabel='Month'>"
            ]
          },
          "metadata": {},
          "execution_count": 15
        },
        {
          "output_type": "display_data",
          "data": {
            "text/plain": [
              "<Figure size 640x480 with 1 Axes>"
            ],
            "image/png": "[encoded data removed]"
          },
          "metadata": {}
        }
      ]
    },
    {
      "cell_type": "markdown",
      "source": [
        "We use the MA method majorly in stock market analysis,to detect any particular trend,if identification of a trend is not possible."
      ],
      "metadata": {
        "id": "hEidPaV87Cud"
      }
    },
    {
      "cell_type": "markdown",
      "source": [
        "we create the base model now. the base model is the starting model,or the first model,which requires no assumptions and the simplest model which follows the assumption that the second period forecast depends on the forecast of the 1st period. So sales of 145.9 can be predicted taken only the sales of the first period into account,i.e 266.0 implies the previous period values are dependent on the current values,so what we observe yesterday,will be reflected today too,only with a slight variation."
      ],
      "metadata": {
        "id": "agaujK1M7In8"
      }
    },
    {
      "cell_type": "code",
      "source": [
        "ts"
      ],
      "metadata": {
        "colab": {
          "base_uri": "https://localhost:8080/"
        },
        "id": "Skf33X897Pvt",
        "outputId": "e1f8f35e-87ff-47ed-a525-f995f70e2a19"
      },
      "execution_count": 16,
      "outputs": [
        {
          "output_type": "execute_result",
          "data": {
            "text/plain": [
              "Month\n",
              "01-Jan    266.0\n",
              "01-Feb    145.9\n",
              "01-Mar    183.1\n",
              "01-Apr    119.3\n",
              "01-May    180.3\n",
              "01-Jun    168.5\n",
              "01-Jul    231.8\n",
              "01-Aug    224.5\n",
              "01-Sep    192.8\n",
              "01-Oct    122.9\n",
              "01-Nov    336.5\n",
              "01-Dec    185.9\n",
              "02-Jan    194.3\n",
              "02-Feb    149.5\n",
              "02-Mar    210.1\n",
              "02-Apr    273.3\n",
              "02-May    191.4\n",
              "02-Jun    287.0\n",
              "02-Jul    226.0\n",
              "02-Aug    303.6\n",
              "02-Sep    289.9\n",
              "02-Oct    421.6\n",
              "02-Nov    264.5\n",
              "02-Dec    342.3\n",
              "03-Jan    339.7\n",
              "03-Feb    440.4\n",
              "03-Mar    315.9\n",
              "03-Apr    439.3\n",
              "03-May    401.3\n",
              "03-Jun    437.4\n",
              "03-Jul    575.5\n",
              "03-Aug    407.6\n",
              "03-Sep    682.0\n",
              "03-Oct    475.3\n",
              "03-Nov    581.3\n",
              "03-Dec    646.9\n",
              "Name: Sales, dtype: float64"
            ]
          },
          "metadata": {},
          "execution_count": 16
        }
      ]
    },
    {
      "cell_type": "markdown",
      "source": [
        "To create the baseline model,we use the shift method,that is just shifting each datapoint 1 step down. When we use the shift function and print the series,we see that the sales of the current period will depend on excatly the last period sales."
      ],
      "metadata": {
        "id": "QD3Io2H_7ShY"
      }
    },
    {
      "cell_type": "code",
      "source": [
        "ts_base = pd.concat([ts,ts.shift(1)],axis=1)"
      ],
      "metadata": {
        "id": "7kpk5_xG7YOz"
      },
      "execution_count": 17,
      "outputs": []
    },
    {
      "cell_type": "code",
      "source": [
        "ts_base"
      ],
      "metadata": {
        "colab": {
          "base_uri": "https://localhost:8080/",
          "height": 1000
        },
        "id": "xPnzje6V7dPe",
        "outputId": "e16dad2b-ec17-4586-fdb9-b5d3367e8690"
      },
      "execution_count": 18,
      "outputs": [
        {
          "output_type": "execute_result",
          "data": {
            "text/plain": [
              "        Sales  Sales\n",
              "Month               \n",
              "01-Jan  266.0    NaN\n",
              "01-Feb  145.9  266.0\n",
              "01-Mar  183.1  145.9\n",
              "01-Apr  119.3  183.1\n",
              "01-May  180.3  119.3\n",
              "01-Jun  168.5  180.3\n",
              "01-Jul  231.8  168.5\n",
              "01-Aug  224.5  231.8\n",
              "01-Sep  192.8  224.5\n",
              "01-Oct  122.9  192.8\n",
              "01-Nov  336.5  122.9\n",
              "01-Dec  185.9  336.5\n",
              "02-Jan  194.3  185.9\n",
              "02-Feb  149.5  194.3\n",
              "02-Mar  210.1  149.5\n",
              "02-Apr  273.3  210.1\n",
              "02-May  191.4  273.3\n",
              "02-Jun  287.0  191.4\n",
              "02-Jul  226.0  287.0\n",
              "02-Aug  303.6  226.0\n",
              "02-Sep  289.9  303.6\n",
              "02-Oct  421.6  289.9\n",
              "02-Nov  264.5  421.6\n",
              "02-Dec  342.3  264.5\n",
              "03-Jan  339.7  342.3\n",
              "03-Feb  440.4  339.7\n",
              "03-Mar  315.9  440.4\n",
              "03-Apr  439.3  315.9\n",
              "03-May  401.3  439.3\n",
              "03-Jun  437.4  401.3\n",
              "03-Jul  575.5  437.4\n",
              "03-Aug  407.6  575.5\n",
              "03-Sep  682.0  407.6\n",
              "03-Oct  475.3  682.0\n",
              "03-Nov  581.3  475.3\n",
              "03-Dec  646.9  581.3"
            ],
            "text/html": [
              "\n",
              "  <div id=\"df-4a8868ea-8828-4fe3-a389-131946140bda\" class=\"colab-df-container\">\n",
              "    <div>\n",
              "<style scoped>\n",
              "    .dataframe tbody tr th:only-of-type {\n",
              "        vertical-align: middle;\n",
              "    }\n",
              "\n",
              "    .dataframe tbody tr th {\n",
              "        vertical-align: top;\n",
              "    }\n",
              "\n",
              "    .dataframe thead th {\n",
              "        text-align: right;\n",
              "    }\n",
              "</style>\n",
              "<table border=\"1\" class=\"dataframe\">\n",
              "  <thead>\n",
              "    <tr style=\"text-align: right;\">\n",
              "      <th></th>\n",
              "      <th>Sales</th>\n",
              "      <th>Sales</th>\n",
              "    </tr>\n",
              "    <tr>\n",
              "      <th>Month</th>\n",
              "      <th></th>\n",
              "      <th></th>\n",
              "    </tr>\n",
              "  </thead>\n",
              "  <tbody>\n",
              "    <tr>\n",
              "      <th>01-Jan</th>\n",
              "      <td>266.0</td>\n",
              "      <td>NaN</td>\n",
              "    </tr>\n",
              "    <tr>\n",
              "      <th>01-Feb</th>\n",
              "      <td>145.9</td>\n",
              "      <td>266.0</td>\n",
              "    </tr>\n",
              "    <tr>\n",
              "      <th>01-Mar</th>\n",
              "      <td>183.1</td>\n",
              "      <td>145.9</td>\n",
              "    </tr>\n",
              "    <tr>\n",
              "      <th>01-Apr</th>\n",
              "      <td>119.3</td>\n",
              "      <td>183.1</td>\n",
              "    </tr>\n",
              "    <tr>\n",
              "      <th>01-May</th>\n",
              "      <td>180.3</td>\n",
              "      <td>119.3</td>\n",
              "    </tr>\n",
              "    <tr>\n",
              "      <th>01-Jun</th>\n",
              "      <td>168.5</td>\n",
              "      <td>180.3</td>\n",
              "    </tr>\n",
              "    <tr>\n",
              "      <th>01-Jul</th>\n",
              "      <td>231.8</td>\n",
              "      <td>168.5</td>\n",
              "    </tr>\n",
              "    <tr>\n",
              "      <th>01-Aug</th>\n",
              "      <td>224.5</td>\n",
              "      <td>231.8</td>\n",
              "    </tr>\n",
              "    <tr>\n",
              "      <th>01-Sep</th>\n",
              "      <td>192.8</td>\n",
              "      <td>224.5</td>\n",
              "    </tr>\n",
              "    <tr>\n",
              "      <th>01-Oct</th>\n",
              "      <td>122.9</td>\n",
              "      <td>192.8</td>\n",
              "    </tr>\n",
              "    <tr>\n",
              "      <th>01-Nov</th>\n",
              "      <td>336.5</td>\n",
              "      <td>122.9</td>\n",
              "    </tr>\n",
              "    <tr>\n",
              "      <th>01-Dec</th>\n",
              "      <td>185.9</td>\n",
              "      <td>336.5</td>\n",
              "    </tr>\n",
              "    <tr>\n",
              "      <th>02-Jan</th>\n",
              "      <td>194.3</td>\n",
              "      <td>185.9</td>\n",
              "    </tr>\n",
              "    <tr>\n",
              "      <th>02-Feb</th>\n",
              "      <td>149.5</td>\n",
              "      <td>194.3</td>\n",
              "    </tr>\n",
              "    <tr>\n",
              "      <th>02-Mar</th>\n",
              "      <td>210.1</td>\n",
              "      <td>149.5</td>\n",
              "    </tr>\n",
              "    <tr>\n",
              "      <th>02-Apr</th>\n",
              "      <td>273.3</td>\n",
              "      <td>210.1</td>\n",
              "    </tr>\n",
              "    <tr>\n",
              "      <th>02-May</th>\n",
              "      <td>191.4</td>\n",
              "      <td>273.3</td>\n",
              "    </tr>\n",
              "    <tr>\n",
              "      <th>02-Jun</th>\n",
              "      <td>287.0</td>\n",
              "      <td>191.4</td>\n",
              "    </tr>\n",
              "    <tr>\n",
              "      <th>02-Jul</th>\n",
              "      <td>226.0</td>\n",
              "      <td>287.0</td>\n",
              "    </tr>\n",
              "    <tr>\n",
              "      <th>02-Aug</th>\n",
              "      <td>303.6</td>\n",
              "      <td>226.0</td>\n",
              "    </tr>\n",
              "    <tr>\n",
              "      <th>02-Sep</th>\n",
              "      <td>289.9</td>\n",
              "      <td>303.6</td>\n",
              "    </tr>\n",
              "    <tr>\n",
              "      <th>02-Oct</th>\n",
              "      <td>421.6</td>\n",
              "      <td>289.9</td>\n",
              "    </tr>\n",
              "    <tr>\n",
              "      <th>02-Nov</th>\n",
              "      <td>264.5</td>\n",
              "      <td>421.6</td>\n",
              "    </tr>\n",
              "    <tr>\n",
              "      <th>02-Dec</th>\n",
              "      <td>342.3</td>\n",
              "      <td>264.5</td>\n",
              "    </tr>\n",
              "    <tr>\n",
              "      <th>03-Jan</th>\n",
              "      <td>339.7</td>\n",
              "      <td>342.3</td>\n",
              "    </tr>\n",
              "    <tr>\n",
              "      <th>03-Feb</th>\n",
              "      <td>440.4</td>\n",
              "      <td>339.7</td>\n",
              "    </tr>\n",
              "    <tr>\n",
              "      <th>03-Mar</th>\n",
              "      <td>315.9</td>\n",
              "      <td>440.4</td>\n",
              "    </tr>\n",
              "    <tr>\n",
              "      <th>03-Apr</th>\n",
              "      <td>439.3</td>\n",
              "      <td>315.9</td>\n",
              "    </tr>\n",
              "    <tr>\n",
              "      <th>03-May</th>\n",
              "      <td>401.3</td>\n",
              "      <td>439.3</td>\n",
              "    </tr>\n",
              "    <tr>\n",
              "      <th>03-Jun</th>\n",
              "      <td>437.4</td>\n",
              "      <td>401.3</td>\n",
              "    </tr>\n",
              "    <tr>\n",
              "      <th>03-Jul</th>\n",
              "      <td>575.5</td>\n",
              "      <td>437.4</td>\n",
              "    </tr>\n",
              "    <tr>\n",
              "      <th>03-Aug</th>\n",
              "      <td>407.6</td>\n",
              "      <td>575.5</td>\n",
              "    </tr>\n",
              "    <tr>\n",
              "      <th>03-Sep</th>\n",
              "      <td>682.0</td>\n",
              "      <td>407.6</td>\n",
              "    </tr>\n",
              "    <tr>\n",
              "      <th>03-Oct</th>\n",
              "      <td>475.3</td>\n",
              "      <td>682.0</td>\n",
              "    </tr>\n",
              "    <tr>\n",
              "      <th>03-Nov</th>\n",
              "      <td>581.3</td>\n",
              "      <td>475.3</td>\n",
              "    </tr>\n",
              "    <tr>\n",
              "      <th>03-Dec</th>\n",
              "      <td>646.9</td>\n",
              "      <td>581.3</td>\n",
              "    </tr>\n",
              "  </tbody>\n",
              "</table>\n",
              "</div>\n",
              "    <div class=\"colab-df-buttons\">\n",
              "\n",
              "  <div class=\"colab-df-container\">\n",
              "    <button class=\"colab-df-convert\" onclick=\"convertToInteractive('df-4a8868ea-8828-4fe3-a389-131946140bda')\"\n",
              "            title=\"Convert this dataframe to an interactive table.\"\n",
              "            style=\"display:none;\">\n",
              "\n",
              "  <svg xmlns=\"http://www.w3.org/2000/svg\" height=\"24px\" viewBox=\"0 -960 960 960\">\n",
              "    <path d=\"M120-120v-720h720v720H120Zm60-500h600v-160H180v160Zm220 220h160v-160H400v160Zm0 220h160v-160H400v160ZM180-400h160v-160H180v160Zm440 0h160v-160H620v160ZM180-180h160v-160H180v160Zm440 0h160v-160H620v160Z\"/>\n",
              "  </svg>\n",
              "    </button>\n",
              "\n",
              "  <style>\n",
              "    .colab-df-container {\n",
              "      display:flex;\n",
              "      gap: 12px;\n",
              "    }\n",
              "\n",
              "    .colab-df-convert {\n",
              "      background-color: #E8F0FE;\n",
              "      border: none;\n",
              "      border-radius: 50%;\n",
              "      cursor: pointer;\n",
              "      display: none;\n",
              "      fill: #1967D2;\n",
              "      height: 32px;\n",
              "      padding: 0 0 0 0;\n",
              "      width: 32px;\n",
              "    }\n",
              "\n",
              "    .colab-df-convert:hover {\n",
              "      background-color: #E2EBFA;\n",
              "      box-shadow: 0px 1px 2px rgba(60, 64, 67, 0.3), 0px 1px 3px 1px rgba(60, 64, 67, 0.15);\n",
              "      fill: #174EA6;\n",
              "    }\n",
              "\n",
              "    .colab-df-buttons div {\n",
              "      margin-bottom: 4px;\n",
              "    }\n",
              "\n",
              "    [theme=dark] .colab-df-convert {\n",
              "      background-color: #3B4455;\n",
              "      fill: #D2E3FC;\n",
              "    }\n",
              "\n",
              "    [theme=dark] .colab-df-convert:hover {\n",
              "      background-color: #434B5C;\n",
              "      box-shadow: 0px 1px 3px 1px rgba(0, 0, 0, 0.15);\n",
              "      filter: drop-shadow(0px 1px 2px rgba(0, 0, 0, 0.3));\n",
              "      fill: #FFFFFF;\n",
              "    }\n",
              "  </style>\n",
              "\n",
              "    <script>\n",
              "      const buttonEl =\n",
              "        document.querySelector('#df-4a8868ea-8828-4fe3-a389-131946140bda button.colab-df-convert');\n",
              "      buttonEl.style.display =\n",
              "        google.colab.kernel.accessAllowed ? 'block' : 'none';\n",
              "\n",
              "      async function convertToInteractive(key) {\n",
              "        const element = document.querySelector('#df-4a8868ea-8828-4fe3-a389-131946140bda');\n",
              "        const dataTable =\n",
              "          await google.colab.kernel.invokeFunction('convertToInteractive',\n",
              "                                                    [key], {});\n",
              "        if (!dataTable) return;\n",
              "\n",
              "        const docLinkHtml = 'Like what you see? Visit the ' +\n",
              "          '<a target=\"_blank\" href=https://colab.research.google.com/notebooks/data_table.ipynb>data table notebook</a>'\n",
              "          + ' to learn more about interactive tables.';\n",
              "        element.innerHTML = '';\n",
              "        dataTable['output_type'] = 'display_data';\n",
              "        await google.colab.output.renderOutput(dataTable, element);\n",
              "        const docLink = document.createElement('div');\n",
              "        docLink.innerHTML = docLinkHtml;\n",
              "        element.appendChild(docLink);\n",
              "      }\n",
              "    </script>\n",
              "  </div>\n",
              "\n",
              "\n",
              "<div id=\"df-8d8d5c02-f64a-4671-b022-fceae83e38ec\">\n",
              "  <button class=\"colab-df-quickchart\" onclick=\"quickchart('df-8d8d5c02-f64a-4671-b022-fceae83e38ec')\"\n",
              "            title=\"Suggest charts\"\n",
              "            style=\"display:none;\">\n",
              "\n",
              "<svg xmlns=\"http://www.w3.org/2000/svg\" height=\"24px\"viewBox=\"0 0 24 24\"\n",
              "     width=\"24px\">\n",
              "    <g>\n",
              "        <path d=\"M19 3H5c-1.1 0-2 .9-2 2v14c0 1.1.9 2 2 2h14c1.1 0 2-.9 2-2V5c0-1.1-.9-2-2-2zM9 17H7v-7h2v7zm4 0h-2V7h2v10zm4 0h-2v-4h2v4z\"/>\n",
              "    </g>\n",
              "</svg>\n",
              "  </button>\n",
              "\n",
              "<style>\n",
              "  .colab-df-quickchart {\n",
              "      --bg-color: #E8F0FE;\n",
              "      --fill-color: #1967D2;\n",
              "      --hover-bg-color: #E2EBFA;\n",
              "      --hover-fill-color: #174EA6;\n",
              "      --disabled-fill-color: #AAA;\n",
              "      --disabled-bg-color: #DDD;\n",
              "  }\n",
              "\n",
              "  [theme=dark] .colab-df-quickchart {\n",
              "      --bg-color: #3B4455;\n",
              "      --fill-color: #D2E3FC;\n",
              "      --hover-bg-color: #434B5C;\n",
              "      --hover-fill-color: #FFFFFF;\n",
              "      --disabled-bg-color: #3B4455;\n",
              "      --disabled-fill-color: #666;\n",
              "  }\n",
              "\n",
              "  .colab-df-quickchart {\n",
              "    background-color: var(--bg-color);\n",
              "    border: none;\n",
              "    border-radius: 50%;\n",
              "    cursor: pointer;\n",
              "    display: none;\n",
              "    fill: var(--fill-color);\n",
              "    height: 32px;\n",
              "    padding: 0;\n",
              "    width: 32px;\n",
              "  }\n",
              "\n",
              "  .colab-df-quickchart:hover {\n",
              "    background-color: var(--hover-bg-color);\n",
              "    box-shadow: 0 1px 2px rgba(60, 64, 67, 0.3), 0 1px 3px 1px rgba(60, 64, 67, 0.15);\n",
              "    fill: var(--button-hover-fill-color);\n",
              "  }\n",
              "\n",
              "  .colab-df-quickchart-complete:disabled,\n",
              "  .colab-df-quickchart-complete:disabled:hover {\n",
              "    background-color: var(--disabled-bg-color);\n",
              "    fill: var(--disabled-fill-color);\n",
              "    box-shadow: none;\n",
              "  }\n",
              "\n",
              "  .colab-df-spinner {\n",
              "    border: 2px solid var(--fill-color);\n",
              "    border-color: transparent;\n",
              "    border-bottom-color: var(--fill-color);\n",
              "    animation:\n",
              "      spin 1s steps(1) infinite;\n",
              "  }\n",
              "\n",
              "  @keyframes spin {\n",
              "    0% {\n",
              "      border-color: transparent;\n",
              "      border-bottom-color: var(--fill-color);\n",
              "      border-left-color: var(--fill-color);\n",
              "    }\n",
              "    20% {\n",
              "      border-color: transparent;\n",
              "      border-left-color: var(--fill-color);\n",
              "      border-top-color: var(--fill-color);\n",
              "    }\n",
              "    30% {\n",
              "      border-color: transparent;\n",
              "      border-left-color: var(--fill-color);\n",
              "      border-top-color: var(--fill-color);\n",
              "      border-right-color: var(--fill-color);\n",
              "    }\n",
              "    40% {\n",
              "      border-color: transparent;\n",
              "      border-right-color: var(--fill-color);\n",
              "      border-top-color: var(--fill-color);\n",
              "    }\n",
              "    60% {\n",
              "      border-color: transparent;\n",
              "      border-right-color: var(--fill-color);\n",
              "    }\n",
              "    80% {\n",
              "      border-color: transparent;\n",
              "      border-right-color: var(--fill-color);\n",
              "      border-bottom-color: var(--fill-color);\n",
              "    }\n",
              "    90% {\n",
              "      border-color: transparent;\n",
              "      border-bottom-color: var(--fill-color);\n",
              "    }\n",
              "  }\n",
              "</style>\n",
              "\n",
              "  <script>\n",
              "    async function quickchart(key) {\n",
              "      const quickchartButtonEl =\n",
              "        document.querySelector('#' + key + ' button');\n",
              "      quickchartButtonEl.disabled = true;  // To prevent multiple clicks.\n",
              "      quickchartButtonEl.classList.add('colab-df-spinner');\n",
              "      try {\n",
              "        const charts = await google.colab.kernel.invokeFunction(\n",
              "            'suggestCharts', [key], {});\n",
              "      } catch (error) {\n",
              "        console.error('Error during call to suggestCharts:', error);\n",
              "      }\n",
              "      quickchartButtonEl.classList.remove('colab-df-spinner');\n",
              "      quickchartButtonEl.classList.add('colab-df-quickchart-complete');\n",
              "    }\n",
              "    (() => {\n",
              "      let quickchartButtonEl =\n",
              "        document.querySelector('#df-8d8d5c02-f64a-4671-b022-fceae83e38ec button');\n",
              "      quickchartButtonEl.style.display =\n",
              "        google.colab.kernel.accessAllowed ? 'block' : 'none';\n",
              "    })();\n",
              "  </script>\n",
              "</div>\n",
              "    </div>\n",
              "  </div>\n"
            ]
          },
          "metadata": {},
          "execution_count": 18
        }
      ]
    },
    {
      "cell_type": "code",
      "source": [
        "ts_base.columns = [\"Actual_sales\",\"Forecasted_sales\"]\n",
        "#modyfying the column names for better understanding"
      ],
      "metadata": {
        "id": "jGvZF2V67oPm"
      },
      "execution_count": 19,
      "outputs": []
    },
    {
      "cell_type": "code",
      "source": [
        "ts_base.head()"
      ],
      "metadata": {
        "colab": {
          "base_uri": "https://localhost:8080/",
          "height": 237
        },
        "id": "h3U-eS0A7xP2",
        "outputId": "ef15686b-052e-42f9-9a8c-0ba2aa0643b9"
      },
      "execution_count": 20,
      "outputs": [
        {
          "output_type": "execute_result",
          "data": {
            "text/plain": [
              "        Actual_sales  Forecasted_sales\n",
              "Month                                 \n",
              "01-Jan         266.0               NaN\n",
              "01-Feb         145.9             266.0\n",
              "01-Mar         183.1             145.9\n",
              "01-Apr         119.3             183.1\n",
              "01-May         180.3             119.3"
            ],
            "text/html": [
              "\n",
              "  <div id=\"df-cde83ec1-aca3-4c0d-a09d-6cb5ed2aa66e\" class=\"colab-df-container\">\n",
              "    <div>\n",
              "<style scoped>\n",
              "    .dataframe tbody tr th:only-of-type {\n",
              "        vertical-align: middle;\n",
              "    }\n",
              "\n",
              "    .dataframe tbody tr th {\n",
              "        vertical-align: top;\n",
              "    }\n",
              "\n",
              "    .dataframe thead th {\n",
              "        text-align: right;\n",
              "    }\n",
              "</style>\n",
              "<table border=\"1\" class=\"dataframe\">\n",
              "  <thead>\n",
              "    <tr style=\"text-align: right;\">\n",
              "      <th></th>\n",
              "      <th>Actual_sales</th>\n",
              "      <th>Forecasted_sales</th>\n",
              "    </tr>\n",
              "    <tr>\n",
              "      <th>Month</th>\n",
              "      <th></th>\n",
              "      <th></th>\n",
              "    </tr>\n",
              "  </thead>\n",
              "  <tbody>\n",
              "    <tr>\n",
              "      <th>01-Jan</th>\n",
              "      <td>266.0</td>\n",
              "      <td>NaN</td>\n",
              "    </tr>\n",
              "    <tr>\n",
              "      <th>01-Feb</th>\n",
              "      <td>145.9</td>\n",
              "      <td>266.0</td>\n",
              "    </tr>\n",
              "    <tr>\n",
              "      <th>01-Mar</th>\n",
              "      <td>183.1</td>\n",
              "      <td>145.9</td>\n",
              "    </tr>\n",
              "    <tr>\n",
              "      <th>01-Apr</th>\n",
              "      <td>119.3</td>\n",
              "      <td>183.1</td>\n",
              "    </tr>\n",
              "    <tr>\n",
              "      <th>01-May</th>\n",
              "      <td>180.3</td>\n",
              "      <td>119.3</td>\n",
              "    </tr>\n",
              "  </tbody>\n",
              "</table>\n",
              "</div>\n",
              "    <div class=\"colab-df-buttons\">\n",
              "\n",
              "  <div class=\"colab-df-container\">\n",
              "    <button class=\"colab-df-convert\" onclick=\"convertToInteractive('df-cde83ec1-aca3-4c0d-a09d-6cb5ed2aa66e')\"\n",
              "            title=\"Convert this dataframe to an interactive table.\"\n",
              "            style=\"display:none;\">\n",
              "\n",
              "  <svg xmlns=\"http://www.w3.org/2000/svg\" height=\"24px\" viewBox=\"0 -960 960 960\">\n",
              "    <path d=\"M120-120v-720h720v720H120Zm60-500h600v-160H180v160Zm220 220h160v-160H400v160Zm0 220h160v-160H400v160ZM180-400h160v-160H180v160Zm440 0h160v-160H620v160ZM180-180h160v-160H180v160Zm440 0h160v-160H620v160Z\"/>\n",
              "  </svg>\n",
              "    </button>\n",
              "\n",
              "  <style>\n",
              "    .colab-df-container {\n",
              "      display:flex;\n",
              "      gap: 12px;\n",
              "    }\n",
              "\n",
              "    .colab-df-convert {\n",
              "      background-color: #E8F0FE;\n",
              "      border: none;\n",
              "      border-radius: 50%;\n",
              "      cursor: pointer;\n",
              "      display: none;\n",
              "      fill: #1967D2;\n",
              "      height: 32px;\n",
              "      padding: 0 0 0 0;\n",
              "      width: 32px;\n",
              "    }\n",
              "\n",
              "    .colab-df-convert:hover {\n",
              "      background-color: #E2EBFA;\n",
              "      box-shadow: 0px 1px 2px rgba(60, 64, 67, 0.3), 0px 1px 3px 1px rgba(60, 64, 67, 0.15);\n",
              "      fill: #174EA6;\n",
              "    }\n",
              "\n",
              "    .colab-df-buttons div {\n",
              "      margin-bottom: 4px;\n",
              "    }\n",
              "\n",
              "    [theme=dark] .colab-df-convert {\n",
              "      background-color: #3B4455;\n",
              "      fill: #D2E3FC;\n",
              "    }\n",
              "\n",
              "    [theme=dark] .colab-df-convert:hover {\n",
              "      background-color: #434B5C;\n",
              "      box-shadow: 0px 1px 3px 1px rgba(0, 0, 0, 0.15);\n",
              "      filter: drop-shadow(0px 1px 2px rgba(0, 0, 0, 0.3));\n",
              "      fill: #FFFFFF;\n",
              "    }\n",
              "  </style>\n",
              "\n",
              "    <script>\n",
              "      const buttonEl =\n",
              "        document.querySelector('#df-cde83ec1-aca3-4c0d-a09d-6cb5ed2aa66e button.colab-df-convert');\n",
              "      buttonEl.style.display =\n",
              "        google.colab.kernel.accessAllowed ? 'block' : 'none';\n",
              "\n",
              "      async function convertToInteractive(key) {\n",
              "        const element = document.querySelector('#df-cde83ec1-aca3-4c0d-a09d-6cb5ed2aa66e');\n",
              "        const dataTable =\n",
              "          await google.colab.kernel.invokeFunction('convertToInteractive',\n",
              "                                                    [key], {});\n",
              "        if (!dataTable) return;\n",
              "\n",
              "        const docLinkHtml = 'Like what you see? Visit the ' +\n",
              "          '<a target=\"_blank\" href=https://colab.research.google.com/notebooks/data_table.ipynb>data table notebook</a>'\n",
              "          + ' to learn more about interactive tables.';\n",
              "        element.innerHTML = '';\n",
              "        dataTable['output_type'] = 'display_data';\n",
              "        await google.colab.output.renderOutput(dataTable, element);\n",
              "        const docLink = document.createElement('div');\n",
              "        docLink.innerHTML = docLinkHtml;\n",
              "        element.appendChild(docLink);\n",
              "      }\n",
              "    </script>\n",
              "  </div>\n",
              "\n",
              "\n",
              "<div id=\"df-4b78251f-2141-4577-aadc-389702785e42\">\n",
              "  <button class=\"colab-df-quickchart\" onclick=\"quickchart('df-4b78251f-2141-4577-aadc-389702785e42')\"\n",
              "            title=\"Suggest charts\"\n",
              "            style=\"display:none;\">\n",
              "\n",
              "<svg xmlns=\"http://www.w3.org/2000/svg\" height=\"24px\"viewBox=\"0 0 24 24\"\n",
              "     width=\"24px\">\n",
              "    <g>\n",
              "        <path d=\"M19 3H5c-1.1 0-2 .9-2 2v14c0 1.1.9 2 2 2h14c1.1 0 2-.9 2-2V5c0-1.1-.9-2-2-2zM9 17H7v-7h2v7zm4 0h-2V7h2v10zm4 0h-2v-4h2v4z\"/>\n",
              "    </g>\n",
              "</svg>\n",
              "  </button>\n",
              "\n",
              "<style>\n",
              "  .colab-df-quickchart {\n",
              "      --bg-color: #E8F0FE;\n",
              "      --fill-color: #1967D2;\n",
              "      --hover-bg-color: #E2EBFA;\n",
              "      --hover-fill-color: #174EA6;\n",
              "      --disabled-fill-color: #AAA;\n",
              "      --disabled-bg-color: #DDD;\n",
              "  }\n",
              "\n",
              "  [theme=dark] .colab-df-quickchart {\n",
              "      --bg-color: #3B4455;\n",
              "      --fill-color: #D2E3FC;\n",
              "      --hover-bg-color: #434B5C;\n",
              "      --hover-fill-color: #FFFFFF;\n",
              "      --disabled-bg-color: #3B4455;\n",
              "      --disabled-fill-color: #666;\n",
              "  }\n",
              "\n",
              "  .colab-df-quickchart {\n",
              "    background-color: var(--bg-color);\n",
              "    border: none;\n",
              "    border-radius: 50%;\n",
              "    cursor: pointer;\n",
              "    display: none;\n",
              "    fill: var(--fill-color);\n",
              "    height: 32px;\n",
              "    padding: 0;\n",
              "    width: 32px;\n",
              "  }\n",
              "\n",
              "  .colab-df-quickchart:hover {\n",
              "    background-color: var(--hover-bg-color);\n",
              "    box-shadow: 0 1px 2px rgba(60, 64, 67, 0.3), 0 1px 3px 1px rgba(60, 64, 67, 0.15);\n",
              "    fill: var(--button-hover-fill-color);\n",
              "  }\n",
              "\n",
              "  .colab-df-quickchart-complete:disabled,\n",
              "  .colab-df-quickchart-complete:disabled:hover {\n",
              "    background-color: var(--disabled-bg-color);\n",
              "    fill: var(--disabled-fill-color);\n",
              "    box-shadow: none;\n",
              "  }\n",
              "\n",
              "  .colab-df-spinner {\n",
              "    border: 2px solid var(--fill-color);\n",
              "    border-color: transparent;\n",
              "    border-bottom-color: var(--fill-color);\n",
              "    animation:\n",
              "      spin 1s steps(1) infinite;\n",
              "  }\n",
              "\n",
              "  @keyframes spin {\n",
              "    0% {\n",
              "      border-color: transparent;\n",
              "      border-bottom-color: var(--fill-color);\n",
              "      border-left-color: var(--fill-color);\n",
              "    }\n",
              "    20% {\n",
              "      border-color: transparent;\n",
              "      border-left-color: var(--fill-color);\n",
              "      border-top-color: var(--fill-color);\n",
              "    }\n",
              "    30% {\n",
              "      border-color: transparent;\n",
              "      border-left-color: var(--fill-color);\n",
              "      border-top-color: var(--fill-color);\n",
              "      border-right-color: var(--fill-color);\n",
              "    }\n",
              "    40% {\n",
              "      border-color: transparent;\n",
              "      border-right-color: var(--fill-color);\n",
              "      border-top-color: var(--fill-color);\n",
              "    }\n",
              "    60% {\n",
              "      border-color: transparent;\n",
              "      border-right-color: var(--fill-color);\n",
              "    }\n",
              "    80% {\n",
              "      border-color: transparent;\n",
              "      border-right-color: var(--fill-color);\n",
              "      border-bottom-color: var(--fill-color);\n",
              "    }\n",
              "    90% {\n",
              "      border-color: transparent;\n",
              "      border-bottom-color: var(--fill-color);\n",
              "    }\n",
              "  }\n",
              "</style>\n",
              "\n",
              "  <script>\n",
              "    async function quickchart(key) {\n",
              "      const quickchartButtonEl =\n",
              "        document.querySelector('#' + key + ' button');\n",
              "      quickchartButtonEl.disabled = true;  // To prevent multiple clicks.\n",
              "      quickchartButtonEl.classList.add('colab-df-spinner');\n",
              "      try {\n",
              "        const charts = await google.colab.kernel.invokeFunction(\n",
              "            'suggestCharts', [key], {});\n",
              "      } catch (error) {\n",
              "        console.error('Error during call to suggestCharts:', error);\n",
              "      }\n",
              "      quickchartButtonEl.classList.remove('colab-df-spinner');\n",
              "      quickchartButtonEl.classList.add('colab-df-quickchart-complete');\n",
              "    }\n",
              "    (() => {\n",
              "      let quickchartButtonEl =\n",
              "        document.querySelector('#df-4b78251f-2141-4577-aadc-389702785e42 button');\n",
              "      quickchartButtonEl.style.display =\n",
              "        google.colab.kernel.accessAllowed ? 'block' : 'none';\n",
              "    })();\n",
              "  </script>\n",
              "</div>\n",
              "    </div>\n",
              "  </div>\n"
            ]
          },
          "metadata": {},
          "execution_count": 20
        }
      ]
    },
    {
      "cell_type": "code",
      "source": [
        "ts_base.dropna(inplace=True)\n",
        "#create changes within the same dataframe,without creating a copy.\n",
        "#And the changes are parmanent."
      ],
      "metadata": {
        "id": "wV0wUAxB73aM"
      },
      "execution_count": 21,
      "outputs": []
    },
    {
      "cell_type": "code",
      "source": [
        "ts_base"
      ],
      "metadata": {
        "colab": {
          "base_uri": "https://localhost:8080/",
          "height": 1000
        },
        "id": "kIitpoLw7_Z8",
        "outputId": "03e85a2e-2bb2-4464-ecf2-d8d569f0e068"
      },
      "execution_count": 22,
      "outputs": [
        {
          "output_type": "execute_result",
          "data": {
            "text/plain": [
              "        Actual_sales  Forecasted_sales\n",
              "Month                                 \n",
              "01-Feb         145.9             266.0\n",
              "01-Mar         183.1             145.9\n",
              "01-Apr         119.3             183.1\n",
              "01-May         180.3             119.3\n",
              "01-Jun         168.5             180.3\n",
              "01-Jul         231.8             168.5\n",
              "01-Aug         224.5             231.8\n",
              "01-Sep         192.8             224.5\n",
              "01-Oct         122.9             192.8\n",
              "01-Nov         336.5             122.9\n",
              "01-Dec         185.9             336.5\n",
              "02-Jan         194.3             185.9\n",
              "02-Feb         149.5             194.3\n",
              "02-Mar         210.1             149.5\n",
              "02-Apr         273.3             210.1\n",
              "02-May         191.4             273.3\n",
              "02-Jun         287.0             191.4\n",
              "02-Jul         226.0             287.0\n",
              "02-Aug         303.6             226.0\n",
              "02-Sep         289.9             303.6\n",
              "02-Oct         421.6             289.9\n",
              "02-Nov         264.5             421.6\n",
              "02-Dec         342.3             264.5\n",
              "03-Jan         339.7             342.3\n",
              "03-Feb         440.4             339.7\n",
              "03-Mar         315.9             440.4\n",
              "03-Apr         439.3             315.9\n",
              "03-May         401.3             439.3\n",
              "03-Jun         437.4             401.3\n",
              "03-Jul         575.5             437.4\n",
              "03-Aug         407.6             575.5\n",
              "03-Sep         682.0             407.6\n",
              "03-Oct         475.3             682.0\n",
              "03-Nov         581.3             475.3\n",
              "03-Dec         646.9             581.3"
            ],
            "text/html": [
              "\n",
              "  <div id=\"df-1c490315-00b1-4d1e-aacf-00e7575b7efe\" class=\"colab-df-container\">\n",
              "    <div>\n",
              "<style scoped>\n",
              "    .dataframe tbody tr th:only-of-type {\n",
              "        vertical-align: middle;\n",
              "    }\n",
              "\n",
              "    .dataframe tbody tr th {\n",
              "        vertical-align: top;\n",
              "    }\n",
              "\n",
              "    .dataframe thead th {\n",
              "        text-align: right;\n",
              "    }\n",
              "</style>\n",
              "<table border=\"1\" class=\"dataframe\">\n",
              "  <thead>\n",
              "    <tr style=\"text-align: right;\">\n",
              "      <th></th>\n",
              "      <th>Actual_sales</th>\n",
              "      <th>Forecasted_sales</th>\n",
              "    </tr>\n",
              "    <tr>\n",
              "      <th>Month</th>\n",
              "      <th></th>\n",
              "      <th></th>\n",
              "    </tr>\n",
              "  </thead>\n",
              "  <tbody>\n",
              "    <tr>\n",
              "      <th>01-Feb</th>\n",
              "      <td>145.9</td>\n",
              "      <td>266.0</td>\n",
              "    </tr>\n",
              "    <tr>\n",
              "      <th>01-Mar</th>\n",
              "      <td>183.1</td>\n",
              "      <td>145.9</td>\n",
              "    </tr>\n",
              "    <tr>\n",
              "      <th>01-Apr</th>\n",
              "      <td>119.3</td>\n",
              "      <td>183.1</td>\n",
              "    </tr>\n",
              "    <tr>\n",
              "      <th>01-May</th>\n",
              "      <td>180.3</td>\n",
              "      <td>119.3</td>\n",
              "    </tr>\n",
              "    <tr>\n",
              "      <th>01-Jun</th>\n",
              "      <td>168.5</td>\n",
              "      <td>180.3</td>\n",
              "    </tr>\n",
              "    <tr>\n",
              "      <th>01-Jul</th>\n",
              "      <td>231.8</td>\n",
              "      <td>168.5</td>\n",
              "    </tr>\n",
              "    <tr>\n",
              "      <th>01-Aug</th>\n",
              "      <td>224.5</td>\n",
              "      <td>231.8</td>\n",
              "    </tr>\n",
              "    <tr>\n",
              "      <th>01-Sep</th>\n",
              "      <td>192.8</td>\n",
              "      <td>224.5</td>\n",
              "    </tr>\n",
              "    <tr>\n",
              "      <th>01-Oct</th>\n",
              "      <td>122.9</td>\n",
              "      <td>192.8</td>\n",
              "    </tr>\n",
              "    <tr>\n",
              "      <th>01-Nov</th>\n",
              "      <td>336.5</td>\n",
              "      <td>122.9</td>\n",
              "    </tr>\n",
              "    <tr>\n",
              "      <th>01-Dec</th>\n",
              "      <td>185.9</td>\n",
              "      <td>336.5</td>\n",
              "    </tr>\n",
              "    <tr>\n",
              "      <th>02-Jan</th>\n",
              "      <td>194.3</td>\n",
              "      <td>185.9</td>\n",
              "    </tr>\n",
              "    <tr>\n",
              "      <th>02-Feb</th>\n",
              "      <td>149.5</td>\n",
              "      <td>194.3</td>\n",
              "    </tr>\n",
              "    <tr>\n",
              "      <th>02-Mar</th>\n",
              "      <td>210.1</td>\n",
              "      <td>149.5</td>\n",
              "    </tr>\n",
              "    <tr>\n",
              "      <th>02-Apr</th>\n",
              "      <td>273.3</td>\n",
              "      <td>210.1</td>\n",
              "    </tr>\n",
              "    <tr>\n",
              "      <th>02-May</th>\n",
              "      <td>191.4</td>\n",
              "      <td>273.3</td>\n",
              "    </tr>\n",
              "    <tr>\n",
              "      <th>02-Jun</th>\n",
              "      <td>287.0</td>\n",
              "      <td>191.4</td>\n",
              "    </tr>\n",
              "    <tr>\n",
              "      <th>02-Jul</th>\n",
              "      <td>226.0</td>\n",
              "      <td>287.0</td>\n",
              "    </tr>\n",
              "    <tr>\n",
              "      <th>02-Aug</th>\n",
              "      <td>303.6</td>\n",
              "      <td>226.0</td>\n",
              "    </tr>\n",
              "    <tr>\n",
              "      <th>02-Sep</th>\n",
              "      <td>289.9</td>\n",
              "      <td>303.6</td>\n",
              "    </tr>\n",
              "    <tr>\n",
              "      <th>02-Oct</th>\n",
              "      <td>421.6</td>\n",
              "      <td>289.9</td>\n",
              "    </tr>\n",
              "    <tr>\n",
              "      <th>02-Nov</th>\n",
              "      <td>264.5</td>\n",
              "      <td>421.6</td>\n",
              "    </tr>\n",
              "    <tr>\n",
              "      <th>02-Dec</th>\n",
              "      <td>342.3</td>\n",
              "      <td>264.5</td>\n",
              "    </tr>\n",
              "    <tr>\n",
              "      <th>03-Jan</th>\n",
              "      <td>339.7</td>\n",
              "      <td>342.3</td>\n",
              "    </tr>\n",
              "    <tr>\n",
              "      <th>03-Feb</th>\n",
              "      <td>440.4</td>\n",
              "      <td>339.7</td>\n",
              "    </tr>\n",
              "    <tr>\n",
              "      <th>03-Mar</th>\n",
              "      <td>315.9</td>\n",
              "      <td>440.4</td>\n",
              "    </tr>\n",
              "    <tr>\n",
              "      <th>03-Apr</th>\n",
              "      <td>439.3</td>\n",
              "      <td>315.9</td>\n",
              "    </tr>\n",
              "    <tr>\n",
              "      <th>03-May</th>\n",
              "      <td>401.3</td>\n",
              "      <td>439.3</td>\n",
              "    </tr>\n",
              "    <tr>\n",
              "      <th>03-Jun</th>\n",
              "      <td>437.4</td>\n",
              "      <td>401.3</td>\n",
              "    </tr>\n",
              "    <tr>\n",
              "      <th>03-Jul</th>\n",
              "      <td>575.5</td>\n",
              "      <td>437.4</td>\n",
              "    </tr>\n",
              "    <tr>\n",
              "      <th>03-Aug</th>\n",
              "      <td>407.6</td>\n",
              "      <td>575.5</td>\n",
              "    </tr>\n",
              "    <tr>\n",
              "      <th>03-Sep</th>\n",
              "      <td>682.0</td>\n",
              "      <td>407.6</td>\n",
              "    </tr>\n",
              "    <tr>\n",
              "      <th>03-Oct</th>\n",
              "      <td>475.3</td>\n",
              "      <td>682.0</td>\n",
              "    </tr>\n",
              "    <tr>\n",
              "      <th>03-Nov</th>\n",
              "      <td>581.3</td>\n",
              "      <td>475.3</td>\n",
              "    </tr>\n",
              "    <tr>\n",
              "      <th>03-Dec</th>\n",
              "      <td>646.9</td>\n",
              "      <td>581.3</td>\n",
              "    </tr>\n",
              "  </tbody>\n",
              "</table>\n",
              "</div>\n",
              "    <div class=\"colab-df-buttons\">\n",
              "\n",
              "  <div class=\"colab-df-container\">\n",
              "    <button class=\"colab-df-convert\" onclick=\"convertToInteractive('df-1c490315-00b1-4d1e-aacf-00e7575b7efe')\"\n",
              "            title=\"Convert this dataframe to an interactive table.\"\n",
              "            style=\"display:none;\">\n",
              "\n",
              "  <svg xmlns=\"http://www.w3.org/2000/svg\" height=\"24px\" viewBox=\"0 -960 960 960\">\n",
              "    <path d=\"M120-120v-720h720v720H120Zm60-500h600v-160H180v160Zm220 220h160v-160H400v160Zm0 220h160v-160H400v160ZM180-400h160v-160H180v160Zm440 0h160v-160H620v160ZM180-180h160v-160H180v160Zm440 0h160v-160H620v160Z\"/>\n",
              "  </svg>\n",
              "    </button>\n",
              "\n",
              "  <style>\n",
              "    .colab-df-container {\n",
              "      display:flex;\n",
              "      gap: 12px;\n",
              "    }\n",
              "\n",
              "    .colab-df-convert {\n",
              "      background-color: #E8F0FE;\n",
              "      border: none;\n",
              "      border-radius: 50%;\n",
              "      cursor: pointer;\n",
              "      display: none;\n",
              "      fill: #1967D2;\n",
              "      height: 32px;\n",
              "      padding: 0 0 0 0;\n",
              "      width: 32px;\n",
              "    }\n",
              "\n",
              "    .colab-df-convert:hover {\n",
              "      background-color: #E2EBFA;\n",
              "      box-shadow: 0px 1px 2px rgba(60, 64, 67, 0.3), 0px 1px 3px 1px rgba(60, 64, 67, 0.15);\n",
              "      fill: #174EA6;\n",
              "    }\n",
              "\n",
              "    .colab-df-buttons div {\n",
              "      margin-bottom: 4px;\n",
              "    }\n",
              "\n",
              "    [theme=dark] .colab-df-convert {\n",
              "      background-color: #3B4455;\n",
              "      fill: #D2E3FC;\n",
              "    }\n",
              "\n",
              "    [theme=dark] .colab-df-convert:hover {\n",
              "      background-color: #434B5C;\n",
              "      box-shadow: 0px 1px 3px 1px rgba(0, 0, 0, 0.15);\n",
              "      filter: drop-shadow(0px 1px 2px rgba(0, 0, 0, 0.3));\n",
              "      fill: #FFFFFF;\n",
              "    }\n",
              "  </style>\n",
              "\n",
              "    <script>\n",
              "      const buttonEl =\n",
              "        document.querySelector('#df-1c490315-00b1-4d1e-aacf-00e7575b7efe button.colab-df-convert');\n",
              "      buttonEl.style.display =\n",
              "        google.colab.kernel.accessAllowed ? 'block' : 'none';\n",
              "\n",
              "      async function convertToInteractive(key) {\n",
              "        const element = document.querySelector('#df-1c490315-00b1-4d1e-aacf-00e7575b7efe');\n",
              "        const dataTable =\n",
              "          await google.colab.kernel.invokeFunction('convertToInteractive',\n",
              "                                                    [key], {});\n",
              "        if (!dataTable) return;\n",
              "\n",
              "        const docLinkHtml = 'Like what you see? Visit the ' +\n",
              "          '<a target=\"_blank\" href=https://colab.research.google.com/notebooks/data_table.ipynb>data table notebook</a>'\n",
              "          + ' to learn more about interactive tables.';\n",
              "        element.innerHTML = '';\n",
              "        dataTable['output_type'] = 'display_data';\n",
              "        await google.colab.output.renderOutput(dataTable, element);\n",
              "        const docLink = document.createElement('div');\n",
              "        docLink.innerHTML = docLinkHtml;\n",
              "        element.appendChild(docLink);\n",
              "      }\n",
              "    </script>\n",
              "  </div>\n",
              "\n",
              "\n",
              "<div id=\"df-21af514c-271d-42cb-af26-fe98a4ae931d\">\n",
              "  <button class=\"colab-df-quickchart\" onclick=\"quickchart('df-21af514c-271d-42cb-af26-fe98a4ae931d')\"\n",
              "            title=\"Suggest charts\"\n",
              "            style=\"display:none;\">\n",
              "\n",
              "<svg xmlns=\"http://www.w3.org/2000/svg\" height=\"24px\"viewBox=\"0 0 24 24\"\n",
              "     width=\"24px\">\n",
              "    <g>\n",
              "        <path d=\"M19 3H5c-1.1 0-2 .9-2 2v14c0 1.1.9 2 2 2h14c1.1 0 2-.9 2-2V5c0-1.1-.9-2-2-2zM9 17H7v-7h2v7zm4 0h-2V7h2v10zm4 0h-2v-4h2v4z\"/>\n",
              "    </g>\n",
              "</svg>\n",
              "  </button>\n",
              "\n",
              "<style>\n",
              "  .colab-df-quickchart {\n",
              "      --bg-color: #E8F0FE;\n",
              "      --fill-color: #1967D2;\n",
              "      --hover-bg-color: #E2EBFA;\n",
              "      --hover-fill-color: #174EA6;\n",
              "      --disabled-fill-color: #AAA;\n",
              "      --disabled-bg-color: #DDD;\n",
              "  }\n",
              "\n",
              "  [theme=dark] .colab-df-quickchart {\n",
              "      --bg-color: #3B4455;\n",
              "      --fill-color: #D2E3FC;\n",
              "      --hover-bg-color: #434B5C;\n",
              "      --hover-fill-color: #FFFFFF;\n",
              "      --disabled-bg-color: #3B4455;\n",
              "      --disabled-fill-color: #666;\n",
              "  }\n",
              "\n",
              "  .colab-df-quickchart {\n",
              "    background-color: var(--bg-color);\n",
              "    border: none;\n",
              "    border-radius: 50%;\n",
              "    cursor: pointer;\n",
              "    display: none;\n",
              "    fill: var(--fill-color);\n",
              "    height: 32px;\n",
              "    padding: 0;\n",
              "    width: 32px;\n",
              "  }\n",
              "\n",
              "  .colab-df-quickchart:hover {\n",
              "    background-color: var(--hover-bg-color);\n",
              "    box-shadow: 0 1px 2px rgba(60, 64, 67, 0.3), 0 1px 3px 1px rgba(60, 64, 67, 0.15);\n",
              "    fill: var(--button-hover-fill-color);\n",
              "  }\n",
              "\n",
              "  .colab-df-quickchart-complete:disabled,\n",
              "  .colab-df-quickchart-complete:disabled:hover {\n",
              "    background-color: var(--disabled-bg-color);\n",
              "    fill: var(--disabled-fill-color);\n",
              "    box-shadow: none;\n",
              "  }\n",
              "\n",
              "  .colab-df-spinner {\n",
              "    border: 2px solid var(--fill-color);\n",
              "    border-color: transparent;\n",
              "    border-bottom-color: var(--fill-color);\n",
              "    animation:\n",
              "      spin 1s steps(1) infinite;\n",
              "  }\n",
              "\n",
              "  @keyframes spin {\n",
              "    0% {\n",
              "      border-color: transparent;\n",
              "      border-bottom-color: var(--fill-color);\n",
              "      border-left-color: var(--fill-color);\n",
              "    }\n",
              "    20% {\n",
              "      border-color: transparent;\n",
              "      border-left-color: var(--fill-color);\n",
              "      border-top-color: var(--fill-color);\n",
              "    }\n",
              "    30% {\n",
              "      border-color: transparent;\n",
              "      border-left-color: var(--fill-color);\n",
              "      border-top-color: var(--fill-color);\n",
              "      border-right-color: var(--fill-color);\n",
              "    }\n",
              "    40% {\n",
              "      border-color: transparent;\n",
              "      border-right-color: var(--fill-color);\n",
              "      border-top-color: var(--fill-color);\n",
              "    }\n",
              "    60% {\n",
              "      border-color: transparent;\n",
              "      border-right-color: var(--fill-color);\n",
              "    }\n",
              "    80% {\n",
              "      border-color: transparent;\n",
              "      border-right-color: var(--fill-color);\n",
              "      border-bottom-color: var(--fill-color);\n",
              "    }\n",
              "    90% {\n",
              "      border-color: transparent;\n",
              "      border-bottom-color: var(--fill-color);\n",
              "    }\n",
              "  }\n",
              "</style>\n",
              "\n",
              "  <script>\n",
              "    async function quickchart(key) {\n",
              "      const quickchartButtonEl =\n",
              "        document.querySelector('#' + key + ' button');\n",
              "      quickchartButtonEl.disabled = true;  // To prevent multiple clicks.\n",
              "      quickchartButtonEl.classList.add('colab-df-spinner');\n",
              "      try {\n",
              "        const charts = await google.colab.kernel.invokeFunction(\n",
              "            'suggestCharts', [key], {});\n",
              "      } catch (error) {\n",
              "        console.error('Error during call to suggestCharts:', error);\n",
              "      }\n",
              "      quickchartButtonEl.classList.remove('colab-df-spinner');\n",
              "      quickchartButtonEl.classList.add('colab-df-quickchart-complete');\n",
              "    }\n",
              "    (() => {\n",
              "      let quickchartButtonEl =\n",
              "        document.querySelector('#df-21af514c-271d-42cb-af26-fe98a4ae931d button');\n",
              "      quickchartButtonEl.style.display =\n",
              "        google.colab.kernel.accessAllowed ? 'block' : 'none';\n",
              "    })();\n",
              "  </script>\n",
              "</div>\n",
              "    </div>\n",
              "  </div>\n"
            ]
          },
          "metadata": {},
          "execution_count": 22
        }
      ]
    },
    {
      "cell_type": "code",
      "source": [
        "from sklearn.metrics import mean_squared_error\n",
        "import numpy as np"
      ],
      "metadata": {
        "id": "P6vRfj-R8Mrz"
      },
      "execution_count": 23,
      "outputs": []
    },
    {
      "cell_type": "code",
      "source": [
        "ts_error = mean_squared_error(ts_base.Actual_sales,ts_base.Forecasted_sales)"
      ],
      "metadata": {
        "id": "ok3mf7L_8bFU"
      },
      "execution_count": 24,
      "outputs": []
    },
    {
      "cell_type": "code",
      "source": [
        "ts_error"
      ],
      "metadata": {
        "colab": {
          "base_uri": "https://localhost:8080/"
        },
        "id": "W4EKX9Sr8dT1",
        "outputId": "1e67ecc7-a36d-45d7-f355-b9c0b912f5d0"
      },
      "execution_count": 25,
      "outputs": [
        {
          "output_type": "execute_result",
          "data": {
            "text/plain": [
              "11715.388285714285"
            ]
          },
          "metadata": {},
          "execution_count": 25
        }
      ]
    },
    {
      "cell_type": "code",
      "source": [
        "np.sqrt(ts_error) #we do not work with the squared error"
      ],
      "metadata": {
        "colab": {
          "base_uri": "https://localhost:8080/"
        },
        "id": "5_rSgRtO8k6X",
        "outputId": "05d8d2a1-d77d-42a1-ebc0-939b43a35a0f"
      },
      "execution_count": 26,
      "outputs": [
        {
          "output_type": "execute_result",
          "data": {
            "text/plain": [
              "108.23764726616282"
            ]
          },
          "metadata": {},
          "execution_count": 26
        }
      ]
    },
    {
      "cell_type": "markdown",
      "source": [
        "#PACF gives the AR component and ACF gives the MA component"
      ],
      "metadata": {
        "id": "jLWkExJC8tKl"
      }
    },
    {
      "cell_type": "code",
      "source": [
        "from statsmodels.graphics.tsaplots import plot_acf,plot_pacf"
      ],
      "metadata": {
        "id": "q-dwfOKb8xT3"
      },
      "execution_count": 27,
      "outputs": []
    },
    {
      "cell_type": "code",
      "source": [
        "plot_acf(ts)"
      ],
      "metadata": {
        "colab": {
          "base_uri": "https://localhost:8080/",
          "height": 887
        },
        "id": "1YCVzS6882Ly",
        "outputId": "e020c1a0-e566-41f9-b8fd-2a25d983c7d4"
      },
      "execution_count": 28,
      "outputs": [
        {
          "output_type": "execute_result",
          "data": {
            "text/plain": [
              "<Figure size 640x480 with 1 Axes>"
            ],
            "image/png": "[encoded data removed]"
          },
          "metadata": {},
          "execution_count": 28
        },
        {
          "output_type": "display_data",
          "data": {
            "text/plain": [
              "<Figure size 640x480 with 1 Axes>"
            ],
            "image/png": "[encoded data removed]"
          },
          "metadata": {}
        }
      ]
    },
    {
      "cell_type": "markdown",
      "source": [
        "This acf plot shows the correlation of the 1st value with the first value(266 with 266),the second term shows the correlation of the second term with the first value,third line shows the correlation of the 3rd point with the 2nd point and so on. In this plot we see the autocorrelation drops post the 4th point(3rd term),and enters the critical zone. so q=3"
      ],
      "metadata": {
        "id": "wN1blVTG8-Kk"
      }
    },
    {
      "cell_type": "code",
      "source": [
        "plot_pacf(ts)"
      ],
      "metadata": {
        "colab": {
          "base_uri": "https://localhost:8080/",
          "height": 887
        },
        "id": "4MujLJLQ9InW",
        "outputId": "1ec30959-741d-4ca9-bff1-73ebd2575359"
      },
      "execution_count": 29,
      "outputs": [
        {
          "output_type": "execute_result",
          "data": {
            "text/plain": [
              "<Figure size 640x480 with 1 Axes>"
            ],
            "image/png": "[encoded data removed]"
          },
          "metadata": {},
          "execution_count": 29
        },
        {
          "output_type": "display_data",
          "data": {
            "text/plain": [
              "<Figure size 640x480 with 1 Axes>"
            ],
            "image/png": "[encoded data removed]"
          },
          "metadata": {}
        }
      ]
    },
    {
      "cell_type": "markdown",
      "source": [
        "#P=2\n",
        "#from the above plot it is evident that post the 3rd line(2nd index)the correlation drops to the critical zone. so P=2\n",
        "#Now the term 'd' (differencing for stationarity,which removes the trend and seasonal factors\n",
        "#from the time series and helps us to make better predictions) varies between 0 to 2.\n",
        "#so we will explore with all possible combinations here\n",
        "#(2,0,3),(2,1,3),(2,2,3) and so on... for (p,d,q)AR=P,I=d,MA=q\n",
        "\n",
        "\n",
        "#we try for ,(2,1,3),then (3,1,3) and finally (2,0,3), (3,1,2)"
      ],
      "metadata": {
        "id": "JGJfvtTv9Yx6"
      }
    },
    {
      "cell_type": "code",
      "source": [
        "from statsmodels.tsa.arima.model import ARIMA"
      ],
      "metadata": {
        "id": "kypWlIxc9cs6"
      },
      "execution_count": 30,
      "outputs": []
    },
    {
      "cell_type": "code",
      "source": [
        "ts_train = ts[0:24]\n",
        "ts_test = ts[24:36]"
      ],
      "metadata": {
        "id": "GfzShMdX9nwd"
      },
      "execution_count": 31,
      "outputs": []
    },
    {
      "cell_type": "code",
      "source": [
        "ts_model = ARIMA(ts_train,order=(2,2,3))\n",
        "#ts_model = ARIMA(ts_train,order=(2,0,3))\n",
        "#ts_model = ARIMA(ts_train,order=(2,1,3))\n",
        "#ts_model = ARIMA(ts_train,order=(4,1,5))"
      ],
      "metadata": {
        "colab": {
          "base_uri": "https://localhost:8080/"
        },
        "id": "He_av4ln9sKh",
        "outputId": "07c14a42-58b5-4be3-caf4-04c9b0ae8404"
      },
      "execution_count": 35,
      "outputs": [
        {
          "output_type": "stream",
          "name": "stderr",
          "text": [
            "/usr/local/lib/python3.10/dist-packages/statsmodels/tsa/base/tsa_model.py:473: ValueWarning: An unsupported index was provided and will be ignored when e.g. forecasting.\n",
            "  self._init_dates(dates, freq)\n",
            "/usr/local/lib/python3.10/dist-packages/statsmodels/tsa/base/tsa_model.py:473: ValueWarning: An unsupported index was provided and will be ignored when e.g. forecasting.\n",
            "  self._init_dates(dates, freq)\n",
            "/usr/local/lib/python3.10/dist-packages/statsmodels/tsa/base/tsa_model.py:473: ValueWarning: An unsupported index was provided and will be ignored when e.g. forecasting.\n",
            "  self._init_dates(dates, freq)\n"
          ]
        }
      ]
    },
    {
      "cell_type": "code",
      "source": [
        "ts_model_fit=ts_model.fit() #we get error for (2,1,3) then we try for"
      ],
      "metadata": {
        "colab": {
          "base_uri": "https://localhost:8080/"
        },
        "id": "qDTl8Lr292Qn",
        "outputId": "a9bcc74f-15ec-4862-c509-f5489b53072c"
      },
      "execution_count": 36,
      "outputs": [
        {
          "output_type": "stream",
          "name": "stderr",
          "text": [
            "/usr/local/lib/python3.10/dist-packages/statsmodels/base/model.py:607: ConvergenceWarning: Maximum Likelihood optimization failed to converge. Check mle_retvals\n",
            "  warnings.warn(\"Maximum Likelihood optimization failed to \"\n"
          ]
        }
      ]
    },
    {
      "cell_type": "code",
      "source": [
        "ts_model_fit.aic"
      ],
      "metadata": {
        "colab": {
          "base_uri": "https://localhost:8080/"
        },
        "id": "2xhkMXla-KZ7",
        "outputId": "caba17ec-06de-4f89-9fb0-5299b238793b"
      },
      "execution_count": 38,
      "outputs": [
        {
          "output_type": "execute_result",
          "data": {
            "text/plain": [
              "260.78916036807266"
            ]
          },
          "metadata": {},
          "execution_count": 38
        }
      ]
    },
    {
      "cell_type": "markdown",
      "source": [
        "**we generate the  12 months forecast for the test data**"
      ],
      "metadata": {
        "id": "ptSk5NOC-UK5"
      }
    },
    {
      "cell_type": "code",
      "source": [
        "ts_forecast= ts_model_fit.forecast(steps=12)\n",
        "#so the first series [0] will contain the actaul forecast values"
      ],
      "metadata": {
        "colab": {
          "base_uri": "https://localhost:8080/"
        },
        "id": "37puvWyh-qh8",
        "outputId": "ba1f0011-8d03-4a2c-fdbb-99364b1d4afd"
      },
      "execution_count": 39,
      "outputs": [
        {
          "output_type": "stream",
          "name": "stderr",
          "text": [
            "/usr/local/lib/python3.10/dist-packages/statsmodels/tsa/base/tsa_model.py:836: ValueWarning: No supported index is available. Prediction results will be given with an integer index beginning at `start`.\n",
            "  return get_prediction_index(\n"
          ]
        }
      ]
    },
    {
      "cell_type": "code",
      "source": [
        "np.sqrt(mean_squared_error(ts_test,ts_forecast))"
      ],
      "metadata": {
        "colab": {
          "base_uri": "https://localhost:8080/"
        },
        "id": "aBnaZTYf-vnY",
        "outputId": "6d4e4122-a9d5-4293-95f0-635ffafeabab"
      },
      "execution_count": 40,
      "outputs": [
        {
          "output_type": "execute_result",
          "data": {
            "text/plain": [
              "82.14338010257187"
            ]
          },
          "metadata": {},
          "execution_count": 40
        }
      ]
    },
    {
      "cell_type": "markdown",
      "source": [
        "ARIMA(2, 2, 3) gives a lower MSE than the base model,so this will be the best model as its   MSE is lower than the base MSE.\n",
        "So,NO more transformations are needed. You will need to transform your series by differencing/log transformations only if your base models MSE is lowest than your ARIMA models."
      ],
      "metadata": {
        "id": "0abzc9hu-zxX"
      }
    }
  ]
}